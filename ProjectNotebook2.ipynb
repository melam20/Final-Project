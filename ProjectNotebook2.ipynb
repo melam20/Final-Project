{
 "cells": [
  {
   "cell_type": "markdown",
   "metadata": {},
   "source": [
    "Project Description: A choose your own adventure project. Your options affect where you end up in your journey and how it ends. Some of your route will depend on luck, based on what options you pick, but others will be reliant on your own knowledge. This project uses functions and user input to run. User input includes entering your name, character race, character class, yes or no, and the numbers 1 or 2 depending on what choices you want. \n",
    "\n",
    "(Note: It isn't as extensive as I would have liked to make it, so only Phoenix-Warrior route works right now.)"
   ]
  },
  {
   "cell_type": "code",
   "execution_count": null,
   "metadata": {},
   "outputs": [],
   "source": [
    "from my_module.projmodule import run_adventure"
   ]
  },
  {
   "cell_type": "code",
   "execution_count": null,
   "metadata": {},
   "outputs": [],
   "source": [
    "run_adventure()"
   ]
  }
 ],
 "metadata": {
  "kernelspec": {
   "display_name": "Python 3",
   "language": "python",
   "name": "python3"
  },
  "language_info": {
   "codemirror_mode": {
    "name": "ipython",
    "version": 3
   },
   "file_extension": ".py",
   "mimetype": "text/x-python",
   "name": "python",
   "nbconvert_exporter": "python",
   "pygments_lexer": "ipython3",
   "version": "3.7.6"
  }
 },
 "nbformat": 4,
 "nbformat_minor": 4
}
